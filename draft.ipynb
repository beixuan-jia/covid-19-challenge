{
 "cells": [
  {
   "cell_type": "code",
   "execution_count": 1,
   "metadata": {},
   "outputs": [],
   "source": [
    "import plotly.graph_objects as go\n",
    "import pandas as pd\n",
    "import json\n",
    "import plotly\n",
    "\n",
    "#df = pd.read_csv('https://raw.githubusercontent.com/plotly/datasets/master/2014_usa_states.csv')\n",
    "df = pd.read_csv(\"https://raw.githubusercontent.com/yyyyyokoko/covid-19-challenge/master/csv/2020-03-22.csv\")\n",
    "df['rank'] = df.index + 1\n",
    "\n",
    "fig = go.Figure(data=[go.Table(\n",
    "    header=dict(values=list(df.columns),\n",
    "                fill_color='paleturquoise',\n",
    "                align='left'),\n",
    "    cells=dict(values=[df['word'], df['count'], df['rank'] ],\n",
    "               fill_color='lavender',\n",
    "               align='left'))\n",
    "])\n",
    "\n",
    "#json.dumps(fig, cls=plotly.utils.PlotlyJSONEncoder)\n",
    "\n",
    "#fig.show()"
   ]
  },
  {
   "cell_type": "code",
   "execution_count": 3,
   "metadata": {},
   "outputs": [],
   "source": [
    "import os"
   ]
  },
  {
   "cell_type": "code",
   "execution_count": 5,
   "metadata": {},
   "outputs": [],
   "source": [
    "basepath = \"csv/\"\n",
    "files = os.listdir(basepath)\n",
    "\n",
    "def getfilenames(filename):\n",
    "    #for filename in files:\n",
    "    temp = filename.split(\"-\")\n",
    "    date = int(temp[2].split(\".\")[0])\n",
    "    if int(temp[1]) == 3:\n",
    "        if date == 31:\n",
    "            secondfilename = \"2020-04-01.csv\"\n",
    "        else:\n",
    "            secondfilename = \"2020-03-\" + str(date+1) + \".csv\"\n",
    "    elif int(temp[1]) == 4:\n",
    "        if date == 22:\n",
    "            secondfilename = None\n",
    "        elif date < 9:\n",
    "            secondfilename = \"2020-04-0\" + str(date+1) + \".csv\"\n",
    "        else:\n",
    "            secondfilename = \"2020-04-\" + str(date+1) + \".csv\"\n",
    "    return filename, secondfilename"
   ]
  },
  {
   "cell_type": "code",
   "execution_count": 20,
   "metadata": {},
   "outputs": [],
   "source": [
    "for filename in files:\n",
    "    first, second = getfilenames(filename)\n",
    "    firstfile = pd.read_csv(basepath + first)\n",
    "    if second:\n",
    "        secondfile = pd.read_csv(basepath + second)\n",
    "        for word in secondfile.word:\n",
    "            if word in list(firstfile.word):\n",
    "                firstindex = firstfile.index[firstfile['word']== word]+1\n",
    "                secondindex = secondfile.index[secondfile['word']== word]+1\n",
    "                secondfile.loc[secondfile.word == word, 'change'] = secondindex - firstindex\n",
    "                secondfile[\"change\"].fillna(\"New\", inplace = True) \n",
    "                secondfile.to_csv(second, index = False)"
   ]
  },
  {
   "cell_type": "code",
   "execution_count": null,
   "metadata": {},
   "outputs": [],
   "source": []
  }
 ],
 "metadata": {
  "kernelspec": {
   "display_name": "Python 3",
   "language": "python",
   "name": "python3"
  },
  "language_info": {
   "codemirror_mode": {
    "name": "ipython",
    "version": 3
   },
   "file_extension": ".py",
   "mimetype": "text/x-python",
   "name": "python",
   "nbconvert_exporter": "python",
   "pygments_lexer": "ipython3",
   "version": "3.7.4"
  }
 },
 "nbformat": 4,
 "nbformat_minor": 2
}
